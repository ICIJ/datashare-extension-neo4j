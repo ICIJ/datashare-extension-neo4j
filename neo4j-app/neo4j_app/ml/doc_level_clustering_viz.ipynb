{
 "cells": [
  {
   "cell_type": "code",
   "execution_count": 1,
   "outputs": [],
   "source": [
    "import logging\n",
    "\n",
    "import dedupe\n",
    "\n",
    "dedupe_logger = logging.getLogger(dedupe.__name__)\n",
    "dedupe_logger.setLevel(logging.DEBUG)\n",
    "dedupe_logger.handlers = []\n",
    "dedupe_logger.addHandler(logging.StreamHandler())"
   ],
   "metadata": {
    "collapsed": false
   }
  },
  {
   "cell_type": "code",
   "execution_count": 2,
   "outputs": [],
   "source": [
    "import pandas as pd\n",
    "\n",
    "from neo4j_app import ROOT_DIR\n",
    "\n",
    "DATA_PATH = ROOT_DIR.joinpath(\"data\")\n",
    "records_path = DATA_PATH / \"person_records.csv\"\n",
    "trained_model_path = DATA_PATH / \"person_model.pickle\"\n",
    "excluded_set_path = DATA_PATH / \"excluded.txt\"\n",
    "clusters_path = DATA_PATH / \"person_clusters.json\"\n",
    "dedupe_path = DATA_PATH / \"person_deduped.csv\""
   ],
   "metadata": {
    "collapsed": false
   }
  },
  {
   "cell_type": "code",
   "execution_count": 3,
   "outputs": [
    {
     "name": "stderr",
     "output_type": "stream",
     "text": [
      "Predicate set:\n",
      "TfidfTextCanopyPredicate: (0.6, mentionNorm)\n",
      "PartialPredicate: (sameFiveCharStartPredicate, mentionNorm, Surname)\n",
      "(PartialPredicate: (sameSevenCharStartPredicate, mentionNorm, CorporationName), PartialIndexLevenshteinCanopyPredicate: (1, mentionNorm, Surname))\n",
      "SimplePredicate: (oneGramFingerprint, mentionNorm)\n",
      "(PartialPredicate: (commonSixGram, mentionNorm, Surname), TfidfNGramCanopyPredicate: (0.6, mentionNorm))\n",
      "PartialPredicate: (sortedAcronym, mentionNorm, CorporationName)\n",
      "(LevenshteinCanopyPredicate: (2, mentionNorm), SimplePredicate: (suffixArray, mentionNorm))\n"
     ]
    }
   ],
   "source": [
    "from neo4j_app.ml.graph_dedupe import HardStaticDedupe\n",
    "\n",
    "with trained_model_path.open(mode=\"rb\") as f:\n",
    "    deduper = HardStaticDedupe(doc_key=\"docId\", settings_file=f)"
   ],
   "metadata": {
    "collapsed": false
   }
  },
  {
   "cell_type": "code",
   "execution_count": 4,
   "outputs": [],
   "source": [
    "from neo4j_app.constants import NE_MENTION_NORM\n",
    "from neo4j_app.ml.graph_dedupe import read_records\n",
    "\n",
    "with excluded_set_path.open() as f:\n",
    "    invalid_ids = (line.strip() for line in f)\n",
    "    invalid_ids = set(i for i in invalid_ids if i)\n",
    "\n",
    "with records_path.open() as f:\n",
    "    data = read_records(f, id_column=NE_MENTION_NORM, invalid_ids=invalid_ids)"
   ],
   "metadata": {
    "collapsed": false
   }
  },
  {
   "cell_type": "code",
   "execution_count": 5,
   "outputs": [],
   "source": [
    "# TODO: load the full data and not just the subset"
   ],
   "metadata": {
    "collapsed": false
   }
  },
  {
   "cell_type": "code",
   "execution_count": 6,
   "outputs": [],
   "source": [
    "from typing import Dict, List\n",
    "\n",
    "\n",
    "def compute_membership(partition: List) -> Dict:\n",
    "    membership = dict()\n",
    "    for cluster_id, (records, scores) in enumerate(partition):\n",
    "        for record_id, score in zip(records, scores):\n",
    "            membership[record_id] = {\n",
    "                \"cluster_id\": cluster_id,\n",
    "                \"cluster_confidence\": float(score),\n",
    "            }\n",
    "    return membership"
   ],
   "metadata": {
    "collapsed": false
   }
  },
  {
   "cell_type": "code",
   "execution_count": 7,
   "outputs": [],
   "source": [
    "import json\n",
    "\n",
    "clusters = None\n",
    "THRESHOLD = 0.4\n",
    "if clusters_path.exists():\n",
    "    clusters = json.loads(clusters_path.read_text())\n",
    "else:\n",
    "    clustered_dupes = deduper.partition(data, threshold=THRESHOLD)\n",
    "    clusters = compute_membership(clustered_dupes)\n",
    "    clusters_path.write_text(json.dumps(clusters))"
   ],
   "metadata": {
    "collapsed": false
   }
  },
  {
   "cell_type": "code",
   "execution_count": 8,
   "outputs": [],
   "source": [
    "for rec_id, record in data.items():\n",
    "    data[rec_id].update(clusters[rec_id])"
   ],
   "metadata": {
    "collapsed": false
   }
  },
  {
   "cell_type": "code",
   "execution_count": 9,
   "outputs": [],
   "source": [
    "data_df = pd.DataFrame.from_dict(data, orient=\"index\")\n",
    "data_df.index.name = \"mentionNorm\"\n",
    "data_df.drop(columns=[\"mentionNorm\"], inplace=True)"
   ],
   "metadata": {
    "collapsed": false
   }
  },
  {
   "cell_type": "code",
   "execution_count": 10,
   "outputs": [],
   "source": [
    "order_cols = [\"docId\", \"cluster_id\", \"mentionNorm\", \"cluster_confidence\"]\n",
    "data_df.sort_values(by=order_cols, inplace=True)\n",
    "data_df = data_df[[\"cluster_id\", \"cluster_confidence\", \"docId\"]]"
   ],
   "metadata": {
    "collapsed": false
   }
  },
  {
   "cell_type": "code",
   "execution_count": 17,
   "outputs": [],
   "source": [
    "data_df.to_csv(dedupe_path)"
   ],
   "metadata": {
    "collapsed": false
   }
  },
  {
   "cell_type": "code",
   "execution_count": 12,
   "outputs": [
    {
     "data": {
      "text/plain": "count\n1     62727\n2      2751\n3       286\n4        63\n5        24\n6        15\n7        11\n9         7\n8         6\n15        2\n10        1\n33        1\n11        1\n13        1\n21        1\n24        1\n31        1\n54        1\nName: count, dtype: int64"
     },
     "execution_count": 12,
     "metadata": {},
     "output_type": "execute_result"
    }
   ],
   "source": [
    "count = data_df[\"cluster_id\"].value_counts().value_counts()\n",
    "count"
   ],
   "metadata": {
    "collapsed": false
   }
  },
  {
   "cell_type": "code",
   "execution_count": 69,
   "outputs": [
    {
     "data": {
      "text/plain": "count       13.000000\nmean      5120.230769\nstd      17622.829181\nmin          1.000000\n25%          1.000000\n50%          5.000000\n75%         34.000000\nmax      63727.000000\nName: count, dtype: float64"
     },
     "execution_count": 69,
     "metadata": {},
     "output_type": "execute_result"
    }
   ],
   "source": [
    "count.describe()"
   ],
   "metadata": {
    "collapsed": false
   }
  },
  {
   "cell_type": "code",
   "execution_count": null,
   "outputs": [],
   "source": [
    "import plotly.express as px\n",
    "\n",
    "fig = px.bar(count)\n",
    "fig.show()"
   ],
   "metadata": {
    "collapsed": false,
    "pycharm": {
     "is_executing": true
    }
   }
  },
  {
   "cell_type": "code",
   "execution_count": 11,
   "outputs": [
    {
     "data": {
      "text/plain": "69964"
     },
     "execution_count": 11,
     "metadata": {},
     "output_type": "execute_result"
    }
   ],
   "source": [
    "len(data)"
   ],
   "metadata": {
    "collapsed": false
   }
  },
  {
   "cell_type": "code",
   "execution_count": null,
   "outputs": [],
   "source": [],
   "metadata": {
    "collapsed": false
   }
  }
 ],
 "metadata": {
  "kernelspec": {
   "display_name": "Python 3",
   "language": "python",
   "name": "python3"
  },
  "language_info": {
   "codemirror_mode": {
    "name": "ipython",
    "version": 2
   },
   "file_extension": ".py",
   "mimetype": "text/x-python",
   "name": "python",
   "nbconvert_exporter": "python",
   "pygments_lexer": "ipython2",
   "version": "2.7.6"
  }
 },
 "nbformat": 4,
 "nbformat_minor": 0
}

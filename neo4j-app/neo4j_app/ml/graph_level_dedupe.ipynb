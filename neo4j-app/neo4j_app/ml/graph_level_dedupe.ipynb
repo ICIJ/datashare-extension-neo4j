{
 "cells": [
  {
   "cell_type": "code",
   "execution_count": 60,
   "metadata": {
    "collapsed": true
   },
   "outputs": [],
   "source": [
    "import logging\n",
    "\n",
    "import dedupe\n",
    "\n",
    "dedupe_logger = logging.getLogger(dedupe.__name__)\n",
    "dedupe_logger.setLevel(logging.DEBUG)\n",
    "dedupe_logger.handlers = []\n",
    "dedupe_logger.addHandler(logging.StreamHandler())"
   ]
  },
  {
   "cell_type": "code",
   "execution_count": 61,
   "outputs": [],
   "source": [
    "from neo4j_app import ROOT_DIR\n",
    "\n",
    "DATA_PATH = ROOT_DIR.joinpath(\"data\")\n",
    "records_path = DATA_PATH / \"person_records.csv\"\n",
    "clusters_path = DATA_PATH / \"person_clusters.json\"\n",
    "doc_level_dedupe_path = DATA_PATH / \"person_deduped.csv\"\n",
    "excluded_set_path = DATA_PATH / \"excluded.txt\"\n",
    "training_set_path = DATA_PATH / \"person_training.csv\"\n",
    "graph_level_trained_model_path = DATA_PATH / \"graph_level_person_model.pickle\"\n",
    "graph_level_records_path = DATA_PATH / \"graph_level_person_records.csv\"\n",
    "graph_level_training_path = DATA_PATH / \"graph_level_person_training.json\"\n",
    "graph_level_excluded_set_path = DATA_PATH / \"graph_level_excluded.txt\""
   ],
   "metadata": {
    "collapsed": false
   }
  },
  {
   "cell_type": "markdown",
   "source": [
    "# Load a sample of the data"
   ],
   "metadata": {
    "collapsed": false
   }
  },
  {
   "cell_type": "code",
   "execution_count": 62,
   "outputs": [],
   "source": [
    "from neo4j_app.ml.graph_dedupe import NE_DOC_ID, NE_MENTION_NORM_DOC_ID\n",
    "import csv\n",
    "from dedupe._typing import RecordDict\n",
    "from typing import Dict, Set, TextIO, Tuple\n",
    "from neo4j_app.constants import NE_MENTION_NORM\n",
    "\n",
    "\n",
    "def read_graph_level_records(\n",
    "    dataset_f: TextIO,\n",
    "    *,\n",
    "    mention_column: str,\n",
    "    doc_id_column: str,\n",
    "    invalid_mentions: Set[str],\n",
    ") -> Tuple[Dict[str, RecordDict], Set[str]]:\n",
    "    reader = csv.DictReader(dataset_f)\n",
    "    records = dict()\n",
    "    invalid_records = set()\n",
    "    for row in reader:\n",
    "        # TODO: here we simplify the problem by using saying that all identical (mentionNorm, docId) refers to the same entity in\n",
    "        #  practice that's not true. If Michel A and Michel B are both referred to as Michel in doc2 then this will result in a failure..\n",
    "        rec_id = str((row[mention_column], row[doc_id_column]))\n",
    "        if row[mention_column] not in invalid_mentions:\n",
    "            row[NE_MENTION_NORM_DOC_ID] = rec_id\n",
    "            records[rec_id] = row\n",
    "        else:\n",
    "            invalid_records.add(rec_id)\n",
    "    return records, invalid_records"
   ],
   "metadata": {
    "collapsed": false
   }
  },
  {
   "cell_type": "code",
   "execution_count": 63,
   "outputs": [],
   "source": [
    "from typing import Sequence\n",
    "from dedupe._typing import Data\n",
    "\n",
    "\n",
    "def sample_data(dataset: Data, n_samples: int, sort_keys: Sequence[str]) -> Data:\n",
    "    samples = sorted(dataset.items(), key=lambda i: tuple((i[1][k] for k in sort_keys)))\n",
    "    return dict(samples[:n_samples])"
   ],
   "metadata": {
    "collapsed": false
   }
  },
  {
   "cell_type": "code",
   "execution_count": 64,
   "outputs": [],
   "source": [
    "from copy import deepcopy\n",
    "from dedupe._typing import RecordDict, TrainingData\n",
    "from typing import Callable, Dict\n",
    "\n",
    "\n",
    "def add_mention_cluster_field(\n",
    "    record: RecordDict,\n",
    "    clusters: Dict,\n",
    "    *,\n",
    "    mention_field: str,\n",
    "    cluster_field: str,\n",
    "    doc_id_field: str\n",
    ") -> RecordDict:\n",
    "    record = deepcopy(record)\n",
    "    record[cluster_field] = clusters[record[mention_field]]\n",
    "    record[NE_MENTION_NORM_DOC_ID] = str((record[mention_field], record[doc_id_field]))\n",
    "    return record\n",
    "\n",
    "\n",
    "def augment_training_set(\n",
    "    labeled_pairs: TrainingData, augment_fn: Callable[[RecordDict], RecordDict]\n",
    ") -> TrainingData:\n",
    "    distinct = [\n",
    "        (augment_fn(lhs), augment_fn(rhs)) for lhs, rhs in labeled_pairs[\"distinct\"]\n",
    "    ]\n",
    "    match = [(augment_fn(lhs), augment_fn(rhs)) for lhs, rhs in labeled_pairs[\"match\"]]\n",
    "    training = TrainingData(distinct=distinct, match=match)\n",
    "    return training"
   ],
   "metadata": {
    "collapsed": false
   }
  },
  {
   "cell_type": "code",
   "execution_count": 65,
   "outputs": [],
   "source": [
    "from neo4j_app.ml.graph_dedupe import read_records\n",
    "\n",
    "with doc_level_dedupe_path.open() as f:\n",
    "    doc_level_clusters = read_records(f, id_column=NE_MENTION_NORM, invalid_ids=set())\n",
    "doc_level_clusters = {\n",
    "    rec_id: rec[\"cluster_id\"] for rec_id, rec in doc_level_clusters.items()\n",
    "}"
   ],
   "metadata": {
    "collapsed": false
   }
  },
  {
   "cell_type": "code",
   "execution_count": 66,
   "outputs": [],
   "source": [
    "from neo4j_app.ml.graph_dedupe import (\n",
    "    NE_FIELDNAMES,\n",
    "    NE_MENTION_CLUSTER,\n",
    ")\n",
    "\n",
    "N_SAMPLES = None\n",
    "GRAPH_FIELDNAMES = NE_FIELDNAMES + [NE_MENTION_CLUSTER, NE_MENTION_NORM_DOC_ID]\n",
    "\n",
    "if graph_level_records_path.exists():\n",
    "    with graph_level_excluded_set_path.open() as f:\n",
    "        invalid_ids = (line.strip() for line in f)\n",
    "        invalid_ids = set(i for i in invalid_ids if i)\n",
    "    with graph_level_records_path.open() as f:\n",
    "        graph_level_data = read_records(\n",
    "            f,\n",
    "            id_column=NE_MENTION_NORM_DOC_ID,\n",
    "            invalid_ids=invalid_ids,\n",
    "        )\n",
    "else:\n",
    "    with records_path.open() as f:\n",
    "        inv_mentions = None\n",
    "        if not graph_level_excluded_set_path.exists():\n",
    "            with excluded_set_path.open() as xf:\n",
    "                inv_mentions = (line.strip() for line in xf)\n",
    "                inv_mentions = set(i for i in inv_mentions if i)\n",
    "        graph_level_data, invalid_ids = read_graph_level_records(\n",
    "            f,\n",
    "            mention_column=NE_MENTION_NORM,\n",
    "            doc_id_column=NE_DOC_ID,\n",
    "            invalid_mentions=inv_mentions,\n",
    "        )\n",
    "        graph_level_data = {\n",
    "            rec_id: add_mention_cluster_field(\n",
    "                rec,\n",
    "                clusters=doc_level_clusters,\n",
    "                mention_field=NE_MENTION_NORM,\n",
    "                cluster_field=NE_MENTION_CLUSTER,\n",
    "                doc_id_field=NE_DOC_ID,\n",
    "            )\n",
    "            for rec_id, rec in graph_level_data.items()\n",
    "        }\n",
    "        if not graph_level_excluded_set_path.exists():\n",
    "            graph_level_excluded_set_path.write_text(\"\\n\".join(invalid_ids))\n",
    "        else:\n",
    "            with graph_level_excluded_set_path.open() as xf:\n",
    "                invalid_ids = (line.strip() for line in xf)\n",
    "                invalid_ids = set(i for i in invalid_ids if i)\n",
    "\n",
    "if N_SAMPLES is not None:\n",
    "    graph_level_data = sample_data(\n",
    "        graph_level_data, n_samples=N_SAMPLES, sort_keys=[\"docId\"]\n",
    "    )"
   ],
   "metadata": {
    "collapsed": false
   }
  },
  {
   "cell_type": "code",
   "execution_count": 67,
   "outputs": [],
   "source": [
    "from typing import Set\n",
    "from dedupe._typing import TrainingData\n",
    "from dedupe import read_training\n",
    "\n",
    "\n",
    "def filter_training_set(labeled_pairs: TrainingData, invalid: Set[str]) -> TrainingData:\n",
    "    labeled_pairs = deepcopy(labeled_pairs)\n",
    "    labeled_pairs[\"distinct\"] = [\n",
    "        (left, right)\n",
    "        for left, right in labeled_pairs[\"distinct\"]\n",
    "        if not left[NE_MENTION_NORM] in invalid\n",
    "        and not right[NE_MENTION_NORM] in invalid\n",
    "    ]\n",
    "    labeled_pairs[\"match\"] = [\n",
    "        (left, right)\n",
    "        for left, right in labeled_pairs[\"match\"]\n",
    "        if not left[NE_MENTION_NORM] in invalid\n",
    "        and not right[NE_MENTION_NORM] in invalid\n",
    "    ]\n",
    "    return labeled_pairs"
   ],
   "metadata": {
    "collapsed": false
   }
  },
  {
   "cell_type": "markdown",
   "source": [
    "# Compute graph level features"
   ],
   "metadata": {
    "collapsed": false
   }
  },
  {
   "cell_type": "code",
   "execution_count": 68,
   "outputs": [],
   "source": [
    "from neo4j_app.ml.graph_dedupe import write_dataset\n",
    "\n",
    "with graph_level_records_path.open(\"w\") as f:\n",
    "    write_dataset(graph_level_data.values(), fieldnames=GRAPH_FIELDNAMES, dataset_f=f)"
   ],
   "metadata": {
    "collapsed": false
   }
  },
  {
   "cell_type": "code",
   "execution_count": 69,
   "outputs": [],
   "source": [
    "import functools\n",
    "from dedupe import write_training\n",
    "\n",
    "if not graph_level_training_path.exists():\n",
    "    with excluded_set_path.open() as xf:\n",
    "        inv_mentions = (line.strip() for line in xf)\n",
    "        inv_mentions = set(i for i in inv_mentions if i)\n",
    "    with training_set_path.open() as f:\n",
    "        training_set = filter_training_set(read_training(f), invalid=inv_mentions)\n",
    "    add_mention_cluster_field_fn = functools.partial(\n",
    "        add_mention_cluster_field,\n",
    "        clusters=doc_level_clusters,\n",
    "        mention_field=NE_MENTION_NORM,\n",
    "        cluster_field=NE_MENTION_CLUSTER,\n",
    "        doc_id_field=NE_DOC_ID,\n",
    "    )\n",
    "    new_training_set = augment_training_set(training_set, add_mention_cluster_field_fn)\n",
    "    with graph_level_training_path.open(\"w\") as f:\n",
    "        write_training(new_training_set, f)"
   ],
   "metadata": {
    "collapsed": false
   }
  },
  {
   "cell_type": "markdown",
   "source": [
    "# Make the most of the already annotated data\n",
    "\n",
    "Keep the training set, compute the new features"
   ],
   "metadata": {
    "collapsed": false
   }
  },
  {
   "cell_type": "code",
   "execution_count": 70,
   "outputs": [
    {
     "name": "stderr",
     "output_type": "stream",
     "text": [
      "reading training from file\n"
     ]
    },
    {
     "ename": "KeyboardInterrupt",
     "evalue": "",
     "output_type": "error",
     "traceback": [
      "\u001B[0;31m---------------------------------------------------------------------------\u001B[0m",
      "\u001B[0;31mKeyboardInterrupt\u001B[0m                         Traceback (most recent call last)",
      "Cell \u001B[0;32mIn[70], line 13\u001B[0m\n\u001B[1;32m     10\u001B[0m target_recall \u001B[38;5;241m=\u001B[39m \u001B[38;5;241m0.8\u001B[39m\n\u001B[1;32m     12\u001B[0m clf_args \u001B[38;5;241m=\u001B[39m {\u001B[38;5;124m\"\u001B[39m\u001B[38;5;124mmax_iter\u001B[39m\u001B[38;5;124m\"\u001B[39m: \u001B[38;5;241m100000\u001B[39m}\n\u001B[0;32m---> 13\u001B[0m model \u001B[38;5;241m=\u001B[39m \u001B[43mrun_training\u001B[49m\u001B[43m(\u001B[49m\n\u001B[1;32m     14\u001B[0m \u001B[43m    \u001B[49m\u001B[43mgraph_level_data\u001B[49m\u001B[43m,\u001B[49m\n\u001B[1;32m     15\u001B[0m \u001B[43m    \u001B[49m\u001B[43mdedupe_getter\u001B[49m\u001B[38;5;241;43m=\u001B[39;49m\u001B[43mfunctools\u001B[49m\u001B[38;5;241;43m.\u001B[39;49m\u001B[43mpartial\u001B[49m\u001B[43m(\u001B[49m\u001B[43mConfigurableClassifierDedupe\u001B[49m\u001B[43m,\u001B[49m\u001B[43m \u001B[49m\u001B[43mclf_args\u001B[49m\u001B[38;5;241;43m=\u001B[39;49m\u001B[43mclf_args\u001B[49m\u001B[43m)\u001B[49m\u001B[43m,\u001B[49m\n\u001B[1;32m     16\u001B[0m \u001B[43m    \u001B[49m\u001B[43mfields_getter\u001B[49m\u001B[38;5;241;43m=\u001B[39;49m\u001B[43mfunctools\u001B[49m\u001B[38;5;241;43m.\u001B[39;49m\u001B[43mpartial\u001B[49m\u001B[43m(\u001B[49m\u001B[43mperson_fields\u001B[49m\u001B[43m,\u001B[49m\u001B[43m \u001B[49m\u001B[43minside_docs\u001B[49m\u001B[38;5;241;43m=\u001B[39;49m\u001B[38;5;28;43;01mFalse\u001B[39;49;00m\u001B[43m)\u001B[49m\u001B[43m,\u001B[49m\n\u001B[1;32m     17\u001B[0m \u001B[43m    \u001B[49m\u001B[43mexcluded_path\u001B[49m\u001B[38;5;241;43m=\u001B[39;49m\u001B[43mexcluded_set_path\u001B[49m\u001B[43m,\u001B[49m\n\u001B[1;32m     18\u001B[0m \u001B[43m    \u001B[49m\u001B[43mmodel_path\u001B[49m\u001B[38;5;241;43m=\u001B[39;49m\u001B[43mgraph_level_trained_model_path\u001B[49m\u001B[43m,\u001B[49m\n\u001B[1;32m     19\u001B[0m \u001B[43m    \u001B[49m\u001B[43mtraining_path\u001B[49m\u001B[38;5;241;43m=\u001B[39;49m\u001B[43mgraph_level_training_path\u001B[49m\u001B[43m,\u001B[49m\n\u001B[1;32m     20\u001B[0m \u001B[43m    \u001B[49m\u001B[43msample_size\u001B[49m\u001B[38;5;241;43m=\u001B[39;49m\u001B[43mtraining_sample_size\u001B[49m\u001B[43m,\u001B[49m\n\u001B[1;32m     21\u001B[0m \u001B[43m    \u001B[49m\u001B[43mid_column\u001B[49m\u001B[38;5;241;43m=\u001B[39;49m\u001B[43mNE_MENTION_NORM\u001B[49m\u001B[43m,\u001B[49m\n\u001B[1;32m     22\u001B[0m \u001B[43m    \u001B[49m\u001B[43mrecall\u001B[49m\u001B[38;5;241;43m=\u001B[39;49m\u001B[43mtarget_recall\u001B[49m\u001B[43m,\u001B[49m\n\u001B[1;32m     23\u001B[0m \u001B[43m)\u001B[49m\n",
      "File \u001B[0;32m~/projects/icij/datashare-extension-neo4j/neo4j-app/neo4j_app/ml/graph_dedupe.py:195\u001B[0m, in \u001B[0;36mrun_training\u001B[0;34m(records, dedupe_getter, fields_getter, excluded_path, model_path, training_path, sample_size, id_column, recall)\u001B[0m\n\u001B[1;32m    193\u001B[0m fields \u001B[38;5;241m=\u001B[39m fields_getter(all_records)\n\u001B[1;32m    194\u001B[0m deduper \u001B[38;5;241m=\u001B[39m dedupe_getter(fields)\n\u001B[0;32m--> 195\u001B[0m \u001B[43mdeduper\u001B[49m\u001B[38;5;241;43m.\u001B[39;49m\u001B[43mprepare_training\u001B[49m\u001B[43m(\u001B[49m\u001B[43mrecords\u001B[49m\u001B[43m,\u001B[49m\u001B[43m \u001B[49m\u001B[43mtraining_file\u001B[49m\u001B[43m,\u001B[49m\u001B[43m \u001B[49m\u001B[43msample_size\u001B[49m\u001B[43m)\u001B[49m\n\u001B[1;32m    196\u001B[0m clf_args \u001B[38;5;241m=\u001B[39m \u001B[38;5;28mgetattr\u001B[39m(deduper, \u001B[38;5;124m\"\u001B[39m\u001B[38;5;124mclf_args\u001B[39m\u001B[38;5;124m\"\u001B[39m)\n\u001B[1;32m    197\u001B[0m \u001B[38;5;28;01mif\u001B[39;00m clf_args \u001B[38;5;129;01mis\u001B[39;00m \u001B[38;5;129;01mnot\u001B[39;00m \u001B[38;5;28;01mNone\u001B[39;00m:\n\u001B[1;32m    198\u001B[0m     \u001B[38;5;66;03m# TODO: clean this mess make the matcher configurable\u001B[39;00m\n",
      "File \u001B[0;32m~/Library/Caches/pypoetry/virtualenvs/neo4j-app-_m-5kAFv-py3.9/lib/python3.9/site-packages/dedupe/api.py:1424\u001B[0m, in \u001B[0;36mDedupe.prepare_training\u001B[0;34m(self, data, training_file, sample_size, blocked_proportion)\u001B[0m\n\u001B[1;32m   1420\u001B[0m \u001B[38;5;66;03m# We need the active learner to know about all our\u001B[39;00m\n\u001B[1;32m   1421\u001B[0m \u001B[38;5;66;03m# existing training data, so add them to data dictionary\u001B[39;00m\n\u001B[1;32m   1422\u001B[0m examples, y \u001B[38;5;241m=\u001B[39m flatten_training(\u001B[38;5;28mself\u001B[39m\u001B[38;5;241m.\u001B[39mtraining_pairs)\n\u001B[0;32m-> 1424\u001B[0m \u001B[38;5;28mself\u001B[39m\u001B[38;5;241m.\u001B[39mactive_learner \u001B[38;5;241m=\u001B[39m \u001B[43mlabeler\u001B[49m\u001B[38;5;241;43m.\u001B[39;49m\u001B[43mDedupeDisagreementLearner\u001B[49m\u001B[43m(\u001B[49m\n\u001B[1;32m   1425\u001B[0m \u001B[43m    \u001B[49m\u001B[38;5;28;43mself\u001B[39;49m\u001B[38;5;241;43m.\u001B[39;49m\u001B[43mdata_model\u001B[49m\u001B[38;5;241;43m.\u001B[39;49m\u001B[43mpredicates\u001B[49m\u001B[43m,\u001B[49m\n\u001B[1;32m   1426\u001B[0m \u001B[43m    \u001B[49m\u001B[38;5;28;43mself\u001B[39;49m\u001B[38;5;241;43m.\u001B[39;49m\u001B[43mdata_model\u001B[49m\u001B[38;5;241;43m.\u001B[39;49m\u001B[43mdistances\u001B[49m\u001B[43m,\u001B[49m\n\u001B[1;32m   1427\u001B[0m \u001B[43m    \u001B[49m\u001B[43mdata\u001B[49m\u001B[43m,\u001B[49m\n\u001B[1;32m   1428\u001B[0m \u001B[43m    \u001B[49m\u001B[43mindex_include\u001B[49m\u001B[38;5;241;43m=\u001B[39;49m\u001B[43mexamples\u001B[49m\u001B[43m,\u001B[49m\n\u001B[1;32m   1429\u001B[0m \u001B[43m\u001B[49m\u001B[43m)\u001B[49m\n\u001B[1;32m   1431\u001B[0m \u001B[38;5;28mself\u001B[39m\u001B[38;5;241m.\u001B[39mactive_learner\u001B[38;5;241m.\u001B[39mmark(examples, y)\n",
      "File \u001B[0;32m~/Library/Caches/pypoetry/virtualenvs/neo4j-app-_m-5kAFv-py3.9/lib/python3.9/site-packages/dedupe/labeler.py:422\u001B[0m, in \u001B[0;36mDedupeDisagreementLearner.__init__\u001B[0;34m(self, candidate_predicates, featurizer, data, index_include)\u001B[0m\n\u001B[1;32m    419\u001B[0m index_include \u001B[38;5;241m=\u001B[39m index_include\u001B[38;5;241m.\u001B[39mcopy()\n\u001B[1;32m    420\u001B[0m index_include\u001B[38;5;241m.\u001B[39mappend(exact_match)\n\u001B[0;32m--> 422\u001B[0m \u001B[38;5;28mself\u001B[39m\u001B[38;5;241m.\u001B[39mblocker \u001B[38;5;241m=\u001B[39m \u001B[43mDedupeBlockLearner\u001B[49m\u001B[43m(\u001B[49m\u001B[43mcandidate_predicates\u001B[49m\u001B[43m,\u001B[49m\u001B[43m \u001B[49m\u001B[43mdata\u001B[49m\u001B[43m,\u001B[49m\u001B[43m \u001B[49m\u001B[43mindex_include\u001B[49m\u001B[43m)\u001B[49m\n\u001B[1;32m    424\u001B[0m \u001B[38;5;28mself\u001B[39m\u001B[38;5;241m.\u001B[39m_candidates \u001B[38;5;241m=\u001B[39m \u001B[38;5;28mself\u001B[39m\u001B[38;5;241m.\u001B[39mblocker\u001B[38;5;241m.\u001B[39mcandidates\u001B[38;5;241m.\u001B[39mcopy()\n\u001B[1;32m    426\u001B[0m \u001B[38;5;28mself\u001B[39m\u001B[38;5;241m.\u001B[39mmatcher \u001B[38;5;241m=\u001B[39m MatchLearner(featurizer, \u001B[38;5;28mself\u001B[39m\u001B[38;5;241m.\u001B[39mcandidates)\n",
      "File \u001B[0;32m~/Library/Caches/pypoetry/virtualenvs/neo4j-app-_m-5kAFv-py3.9/lib/python3.9/site-packages/dedupe/labeler.py:236\u001B[0m, in \u001B[0;36mDedupeBlockLearner.__init__\u001B[0;34m(self, candidate_predicates, data, index_include)\u001B[0m\n\u001B[1;32m    233\u001B[0m sampled_records \u001B[38;5;241m=\u001B[39m sample_records(index_data, N_SAMPLED_RECORDS)\n\u001B[1;32m    235\u001B[0m preds \u001B[38;5;241m=\u001B[39m _filter_canopy_predicates(candidate_predicates, canopies\u001B[38;5;241m=\u001B[39m\u001B[38;5;28;01mTrue\u001B[39;00m)\n\u001B[0;32m--> 236\u001B[0m \u001B[38;5;28mself\u001B[39m\u001B[38;5;241m.\u001B[39mblock_learner \u001B[38;5;241m=\u001B[39m \u001B[43mtraining\u001B[49m\u001B[38;5;241;43m.\u001B[39;49m\u001B[43mDedupeBlockLearner\u001B[49m\u001B[43m(\u001B[49m\n\u001B[1;32m    237\u001B[0m \u001B[43m    \u001B[49m\u001B[43mpreds\u001B[49m\u001B[43m,\u001B[49m\u001B[43m \u001B[49m\u001B[43msampled_records\u001B[49m\u001B[43m,\u001B[49m\u001B[43m \u001B[49m\u001B[43mindex_data\u001B[49m\n\u001B[1;32m    238\u001B[0m \u001B[43m\u001B[49m\u001B[43m)\u001B[49m\n\u001B[1;32m    240\u001B[0m \u001B[38;5;28mself\u001B[39m\u001B[38;5;241m.\u001B[39m_candidates \u001B[38;5;241m=\u001B[39m \u001B[38;5;28mself\u001B[39m\u001B[38;5;241m.\u001B[39m_sample(sampled_records, N_SAMPLED_RECORD_PAIRS)\n\u001B[1;32m    241\u001B[0m examples_to_index \u001B[38;5;241m=\u001B[39m \u001B[38;5;28mself\u001B[39m\u001B[38;5;241m.\u001B[39mcandidates\u001B[38;5;241m.\u001B[39mcopy()\n",
      "File \u001B[0;32m~/Library/Caches/pypoetry/virtualenvs/neo4j-app-_m-5kAFv-py3.9/lib/python3.9/site-packages/dedupe/training.py:197\u001B[0m, in \u001B[0;36mDedupeBlockLearner.__init__\u001B[0;34m(self, predicates, sampled_records, data)\u001B[0m\n\u001B[1;32m    193\u001B[0m \u001B[38;5;28;01mdef\u001B[39;00m \u001B[38;5;21m__init__\u001B[39m(\n\u001B[1;32m    194\u001B[0m     \u001B[38;5;28mself\u001B[39m, predicates: Iterable[Predicate], sampled_records: Data, data: Data\n\u001B[1;32m    195\u001B[0m ):\n\u001B[1;32m    196\u001B[0m     \u001B[38;5;28mself\u001B[39m\u001B[38;5;241m.\u001B[39mblocker \u001B[38;5;241m=\u001B[39m blocking\u001B[38;5;241m.\u001B[39mFingerprinter(predicates)\n\u001B[0;32m--> 197\u001B[0m     \u001B[38;5;28;43mself\u001B[39;49m\u001B[38;5;241;43m.\u001B[39;49m\u001B[43mblocker\u001B[49m\u001B[38;5;241;43m.\u001B[39;49m\u001B[43mindex_all\u001B[49m\u001B[43m(\u001B[49m\u001B[43mdata\u001B[49m\u001B[43m)\u001B[49m\n\u001B[1;32m    199\u001B[0m     \u001B[38;5;28mself\u001B[39m\u001B[38;5;241m.\u001B[39mcomparison_cover \u001B[38;5;241m=\u001B[39m \u001B[38;5;28mself\u001B[39m\u001B[38;5;241m.\u001B[39mcoveredPairs(\u001B[38;5;28mself\u001B[39m\u001B[38;5;241m.\u001B[39mblocker, sampled_records)\n",
      "File \u001B[0;32m~/Library/Caches/pypoetry/virtualenvs/neo4j-app-_m-5kAFv-py3.9/lib/python3.9/site-packages/dedupe/blocking.py:193\u001B[0m, in \u001B[0;36mFingerprinter.index_all\u001B[0;34m(self, data)\u001B[0m\n\u001B[1;32m    191\u001B[0m \u001B[38;5;28;01mfor\u001B[39;00m field \u001B[38;5;129;01min\u001B[39;00m \u001B[38;5;28mself\u001B[39m\u001B[38;5;241m.\u001B[39mindex_fields:\n\u001B[1;32m    192\u001B[0m     unique_fields \u001B[38;5;241m=\u001B[39m {record[field] \u001B[38;5;28;01mfor\u001B[39;00m record \u001B[38;5;129;01min\u001B[39;00m data\u001B[38;5;241m.\u001B[39mvalues() \u001B[38;5;28;01mif\u001B[39;00m record[field]}\n\u001B[0;32m--> 193\u001B[0m     \u001B[38;5;28;43mself\u001B[39;49m\u001B[38;5;241;43m.\u001B[39;49m\u001B[43mindex\u001B[49m\u001B[43m(\u001B[49m\u001B[43munique_fields\u001B[49m\u001B[43m,\u001B[49m\u001B[43m \u001B[49m\u001B[43mfield\u001B[49m\u001B[43m)\u001B[49m\n",
      "File \u001B[0;32m~/Library/Caches/pypoetry/virtualenvs/neo4j-app-_m-5kAFv-py3.9/lib/python3.9/site-packages/dedupe/blocking.py:150\u001B[0m, in \u001B[0;36mFingerprinter.index\u001B[0;34m(self, docs, field)\u001B[0m\n\u001B[1;32m    148\u001B[0m     \u001B[38;5;28;01mif\u001B[39;00m doc:\n\u001B[1;32m    149\u001B[0m         \u001B[38;5;28;01mfor\u001B[39;00m _, index, preprocess \u001B[38;5;129;01min\u001B[39;00m indices:\n\u001B[0;32m--> 150\u001B[0m             index\u001B[38;5;241m.\u001B[39mindex(\u001B[43mpreprocess\u001B[49m\u001B[43m(\u001B[49m\u001B[43mdoc\u001B[49m\u001B[43m)\u001B[49m)\n\u001B[1;32m    152\u001B[0m \u001B[38;5;28;01mfor\u001B[39;00m index_type, index, _ \u001B[38;5;129;01min\u001B[39;00m indices:\n\u001B[1;32m    153\u001B[0m     index\u001B[38;5;241m.\u001B[39minitSearch()\n",
      "File \u001B[0;32m~/Library/Caches/pypoetry/virtualenvs/neo4j-app-_m-5kAFv-py3.9/lib/python3.9/site-packages/parseratorvariable/predicates.py:13\u001B[0m, in \u001B[0;36mPartialIndex.preprocess\u001B[0;34m(self, doc)\u001B[0m\n\u001B[1;32m     11\u001B[0m \u001B[38;5;28;01mdef\u001B[39;00m \u001B[38;5;21mpreprocess\u001B[39m(\u001B[38;5;28mself\u001B[39m, doc):\n\u001B[1;32m     12\u001B[0m     \u001B[38;5;28;01mtry\u001B[39;00m:\n\u001B[0;32m---> 13\u001B[0m         tags, _ \u001B[38;5;241m=\u001B[39m \u001B[38;5;28;43mself\u001B[39;49m\u001B[38;5;241;43m.\u001B[39;49m\u001B[43mtag\u001B[49m\u001B[43m(\u001B[49m\u001B[43mdoc\u001B[49m\u001B[43m)\u001B[49m\n\u001B[1;32m     14\u001B[0m     \u001B[38;5;28;01mexcept\u001B[39;00m \u001B[38;5;167;01mTypeError\u001B[39;00m:\n\u001B[1;32m     15\u001B[0m         part \u001B[38;5;241m=\u001B[39m \u001B[38;5;124m'\u001B[39m\u001B[38;5;124m'\u001B[39m\n",
      "File \u001B[0;32m~/Library/Caches/pypoetry/virtualenvs/neo4j-app-_m-5kAFv-py3.9/lib/python3.9/site-packages/parseratorvariable/__init__.py:74\u001B[0m, in \u001B[0;36mParseratorType.tag\u001B[0;34m(self, field, *args)\u001B[0m\n\u001B[1;32m     71\u001B[0m \u001B[38;5;129m@lru_cache\u001B[39m(maxsize\u001B[38;5;241m=\u001B[39m\u001B[38;5;241m5000\u001B[39m)\n\u001B[1;32m     72\u001B[0m \u001B[38;5;28;01mdef\u001B[39;00m \u001B[38;5;21mtag\u001B[39m(\u001B[38;5;28mself\u001B[39m, field, \u001B[38;5;241m*\u001B[39margs):\n\u001B[1;32m     73\u001B[0m     \u001B[38;5;28;01mtry\u001B[39;00m:\n\u001B[0;32m---> 74\u001B[0m         result \u001B[38;5;241m=\u001B[39m \u001B[38;5;28;43mself\u001B[39;49m\u001B[38;5;241;43m.\u001B[39;49m\u001B[43m_tagger\u001B[49m\u001B[43m(\u001B[49m\u001B[43mfield\u001B[49m\u001B[43m,\u001B[49m\u001B[43m \u001B[49m\u001B[38;5;241;43m*\u001B[39;49m\u001B[43margs\u001B[49m\u001B[43m)\u001B[49m\n\u001B[1;32m     75\u001B[0m     \u001B[38;5;28;01mexcept\u001B[39;00m RepeatedLabelError \u001B[38;5;28;01mas\u001B[39;00m e:\n\u001B[1;32m     76\u001B[0m         \u001B[38;5;28;01mif\u001B[39;00m \u001B[38;5;28mself\u001B[39m\u001B[38;5;241m.\u001B[39mlog_file :\n",
      "File \u001B[0;32m~/Library/Caches/pypoetry/virtualenvs/neo4j-app-_m-5kAFv-py3.9/lib/python3.9/site-packages/probablepeople/__init__.py:106\u001B[0m, in \u001B[0;36mtag\u001B[0;34m(raw_string, type)\u001B[0m\n\u001B[1;32m     96\u001B[0m aka_label \u001B[38;5;241m=\u001B[39m \u001B[38;5;28;01mFalse\u001B[39;00m\n\u001B[1;32m     98\u001B[0m interrupting_tags \u001B[38;5;241m=\u001B[39m (\u001B[38;5;124m'\u001B[39m\u001B[38;5;124mCorporationNameOrganization\u001B[39m\u001B[38;5;124m'\u001B[39m, \n\u001B[1;32m     99\u001B[0m                      \u001B[38;5;124m'\u001B[39m\u001B[38;5;124mCorporationNameBranchType\u001B[39m\u001B[38;5;124m'\u001B[39m,\n\u001B[1;32m    100\u001B[0m                      \u001B[38;5;124m'\u001B[39m\u001B[38;5;124mCorporationNameBranchIdentifier\u001B[39m\u001B[38;5;124m'\u001B[39m,\n\u001B[0;32m   (...)\u001B[0m\n\u001B[1;32m    103\u001B[0m                      \u001B[38;5;124m'\u001B[39m\u001B[38;5;124mOtherCorporationNameBranchType\u001B[39m\u001B[38;5;124m'\u001B[39m,\n\u001B[1;32m    104\u001B[0m                      \u001B[38;5;124m'\u001B[39m\u001B[38;5;124mOtherCorporationNameBranchIdentifier\u001B[39m\u001B[38;5;124m'\u001B[39m)\n\u001B[0;32m--> 106\u001B[0m \u001B[38;5;28;01mfor\u001B[39;00m token, label \u001B[38;5;129;01min\u001B[39;00m \u001B[43mparse\u001B[49m\u001B[43m(\u001B[49m\u001B[43mraw_string\u001B[49m\u001B[43m,\u001B[49m\u001B[43m \u001B[49m\u001B[38;5;28;43mtype\u001B[39;49m\u001B[43m)\u001B[49m :\n\u001B[1;32m    107\u001B[0m     original_label \u001B[38;5;241m=\u001B[39m label\n\u001B[1;32m    109\u001B[0m     \u001B[38;5;28;01mif\u001B[39;00m label \u001B[38;5;241m==\u001B[39m \u001B[38;5;124m'\u001B[39m\u001B[38;5;124mAnd\u001B[39m\u001B[38;5;124m'\u001B[39m:\n",
      "File \u001B[0;32m~/Library/Caches/pypoetry/virtualenvs/neo4j-app-_m-5kAFv-py3.9/lib/python3.9/site-packages/probablepeople/__init__.py:85\u001B[0m, in \u001B[0;36mparse\u001B[0;34m(raw_string, type)\u001B[0m\n\u001B[1;32m     82\u001B[0m \u001B[38;5;28;01mif\u001B[39;00m \u001B[38;5;129;01mnot\u001B[39;00m tokens :\n\u001B[1;32m     83\u001B[0m     \u001B[38;5;28;01mreturn\u001B[39;00m []\n\u001B[0;32m---> 85\u001B[0m features \u001B[38;5;241m=\u001B[39m \u001B[43mtokens2features\u001B[49m\u001B[43m(\u001B[49m\u001B[43mtokens\u001B[49m\u001B[43m)\u001B[49m\n\u001B[1;32m     87\u001B[0m tags \u001B[38;5;241m=\u001B[39m tagger\u001B[38;5;241m.\u001B[39mtag(features)\n\u001B[1;32m     88\u001B[0m \u001B[38;5;28;01mreturn\u001B[39;00m \u001B[38;5;28mlist\u001B[39m(\u001B[38;5;28mzip\u001B[39m(tokens, tags))\n",
      "File \u001B[0;32m~/Library/Caches/pypoetry/virtualenvs/neo4j-app-_m-5kAFv-py3.9/lib/python3.9/site-packages/probablepeople/__init__.py:182\u001B[0m, in \u001B[0;36mtokens2features\u001B[0;34m(tokens)\u001B[0m\n\u001B[1;32m    179\u001B[0m seen_comma \u001B[38;5;241m=\u001B[39m \u001B[38;5;28;01mFalse\u001B[39;00m\n\u001B[1;32m    181\u001B[0m \u001B[38;5;28;01mfor\u001B[39;00m token \u001B[38;5;129;01min\u001B[39;00m tokens[\u001B[38;5;241m1\u001B[39m:] :\n\u001B[0;32m--> 182\u001B[0m     token_features \u001B[38;5;241m=\u001B[39m \u001B[43mtokenFeatures\u001B[49m\u001B[43m(\u001B[49m\u001B[43mtoken\u001B[49m\u001B[43m)\u001B[49m \n\u001B[1;32m    183\u001B[0m     \u001B[38;5;28;01mif\u001B[39;00m \u001B[38;5;129;01mnot\u001B[39;00m seen_comma \u001B[38;5;129;01mand\u001B[39;00m previous_features[\u001B[38;5;124m'\u001B[39m\u001B[38;5;124mcomma\u001B[39m\u001B[38;5;124m'\u001B[39m] :\n\u001B[1;32m    184\u001B[0m         seen_comma \u001B[38;5;241m=\u001B[39m \u001B[38;5;28;01mTrue\u001B[39;00m\n",
      "File \u001B[0;32m~/Library/Caches/pypoetry/virtualenvs/neo4j-app-_m-5kAFv-py3.9/lib/python3.9/site-packages/probablepeople/__init__.py:214\u001B[0m, in \u001B[0;36mtokenFeatures\u001B[0;34m(token)\u001B[0m\n\u001B[1;32m    211\u001B[0m     token_clean \u001B[38;5;241m=\u001B[39m token_abbrev \u001B[38;5;241m=\u001B[39m token\n\u001B[1;32m    213\u001B[0m \u001B[38;5;28;01melse\u001B[39;00m :\n\u001B[0;32m--> 214\u001B[0m     token_clean \u001B[38;5;241m=\u001B[39m \u001B[43mre\u001B[49m\u001B[38;5;241;43m.\u001B[39;49m\u001B[43msub\u001B[49m\u001B[43m(\u001B[49m\u001B[38;5;124;43mr\u001B[39;49m\u001B[38;5;124;43m'\u001B[39;49m\u001B[38;5;124;43m(^[\u001B[39;49m\u001B[38;5;124;43m\\\u001B[39;49m\u001B[38;5;124;43mW]*)|([^.\u001B[39;49m\u001B[38;5;124;43m\\\u001B[39;49m\u001B[38;5;124;43mw]*$)\u001B[39;49m\u001B[38;5;124;43m'\u001B[39;49m\u001B[43m,\u001B[49m\u001B[43m \u001B[49m\u001B[38;5;124;43mu\u001B[39;49m\u001B[38;5;124;43m'\u001B[39;49m\u001B[38;5;124;43m'\u001B[39;49m\u001B[43m,\u001B[49m\u001B[43m \u001B[49m\u001B[43mtoken\u001B[49m\u001B[38;5;241;43m.\u001B[39;49m\u001B[43mlower\u001B[49m\u001B[43m(\u001B[49m\u001B[43m)\u001B[49m\u001B[43m)\u001B[49m\n\u001B[1;32m    215\u001B[0m     token_abbrev \u001B[38;5;241m=\u001B[39m re\u001B[38;5;241m.\u001B[39msub(\u001B[38;5;124mr\u001B[39m\u001B[38;5;124m'\u001B[39m\u001B[38;5;124m\\\u001B[39m\u001B[38;5;124mW\u001B[39m\u001B[38;5;124m'\u001B[39m, \u001B[38;5;124mu\u001B[39m\u001B[38;5;124m'\u001B[39m\u001B[38;5;124m'\u001B[39m, token_clean)\n\u001B[1;32m    217\u001B[0m metaphone \u001B[38;5;241m=\u001B[39m doublemetaphone(token_abbrev)\n",
      "File \u001B[0;32m/Library/Frameworks/Python.framework/Versions/3.9/lib/python3.9/re.py:210\u001B[0m, in \u001B[0;36msub\u001B[0;34m(pattern, repl, string, count, flags)\u001B[0m\n\u001B[1;32m    203\u001B[0m \u001B[38;5;28;01mdef\u001B[39;00m \u001B[38;5;21msub\u001B[39m(pattern, repl, string, count\u001B[38;5;241m=\u001B[39m\u001B[38;5;241m0\u001B[39m, flags\u001B[38;5;241m=\u001B[39m\u001B[38;5;241m0\u001B[39m):\n\u001B[1;32m    204\u001B[0m \u001B[38;5;250m    \u001B[39m\u001B[38;5;124;03m\"\"\"Return the string obtained by replacing the leftmost\u001B[39;00m\n\u001B[1;32m    205\u001B[0m \u001B[38;5;124;03m    non-overlapping occurrences of the pattern in string by the\u001B[39;00m\n\u001B[1;32m    206\u001B[0m \u001B[38;5;124;03m    replacement repl.  repl can be either a string or a callable;\u001B[39;00m\n\u001B[1;32m    207\u001B[0m \u001B[38;5;124;03m    if a string, backslash escapes in it are processed.  If it is\u001B[39;00m\n\u001B[1;32m    208\u001B[0m \u001B[38;5;124;03m    a callable, it's passed the Match object and must return\u001B[39;00m\n\u001B[1;32m    209\u001B[0m \u001B[38;5;124;03m    a replacement string to be used.\"\"\"\u001B[39;00m\n\u001B[0;32m--> 210\u001B[0m     \u001B[38;5;28;01mreturn\u001B[39;00m \u001B[43m_compile\u001B[49m\u001B[43m(\u001B[49m\u001B[43mpattern\u001B[49m\u001B[43m,\u001B[49m\u001B[43m \u001B[49m\u001B[43mflags\u001B[49m\u001B[43m)\u001B[49m\u001B[38;5;241;43m.\u001B[39;49m\u001B[43msub\u001B[49m\u001B[43m(\u001B[49m\u001B[43mrepl\u001B[49m\u001B[43m,\u001B[49m\u001B[43m \u001B[49m\u001B[43mstring\u001B[49m\u001B[43m,\u001B[49m\u001B[43m \u001B[49m\u001B[43mcount\u001B[49m\u001B[43m)\u001B[49m\n",
      "\u001B[0;31mKeyboardInterrupt\u001B[0m: "
     ]
    }
   ],
   "source": [
    "import functools\n",
    "from neo4j_app.ml.graph_dedupe import (\n",
    "    ConfigurableClassifierDedupe,\n",
    "    person_fields,\n",
    "    run_training,\n",
    ")\n",
    "\n",
    "# TODO: increase\n",
    "training_sample_size = 50000\n",
    "target_recall = 0.8\n",
    "\n",
    "clf_args = {\"max_iter\": 100000}\n",
    "model = run_training(\n",
    "    graph_level_data,\n",
    "    dedupe_getter=functools.partial(ConfigurableClassifierDedupe, clf_args=clf_args),\n",
    "    fields_getter=functools.partial(person_fields, inside_docs=False),\n",
    "    excluded_path=excluded_set_path,\n",
    "    model_path=graph_level_trained_model_path,\n",
    "    training_path=graph_level_training_path,\n",
    "    sample_size=training_sample_size,\n",
    "    id_column=NE_MENTION_NORM,\n",
    "    recall=target_recall,\n",
    ")"
   ],
   "metadata": {
    "collapsed": false
   }
  }
 ],
 "metadata": {
  "kernelspec": {
   "display_name": "Python 3",
   "language": "python",
   "name": "python3"
  },
  "language_info": {
   "codemirror_mode": {
    "name": "ipython",
    "version": 2
   },
   "file_extension": ".py",
   "mimetype": "text/x-python",
   "name": "python",
   "nbconvert_exporter": "python",
   "pygments_lexer": "ipython2",
   "version": "2.7.6"
  }
 },
 "nbformat": 4,
 "nbformat_minor": 0
}
